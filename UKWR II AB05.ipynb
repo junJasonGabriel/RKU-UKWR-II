{
 "cells": [
  {
   "cell_type": "markdown",
   "metadata": {},
   "source": [
    "# Tridiagonal Matrices\n",
    "### Flora Hess (flora.hess@stud.uni-heidelberg.de)<br/>Leonardo K. Reiter (leonardo.reiter@stud.uni-heidelberg.de)<br/>Jason G. Jun (jun.jasongabriel@stud.uni-heidelberg.de)"
   ]
  },
  {
   "cell_type": "code",
   "execution_count": 1,
   "metadata": {},
   "outputs": [],
   "source": [
    "import numpy as np\n",
    "from scipy.sparse import diags\n",
    "import matplotlib.pyplot as plt\n",
    "%matplotlib inline"
   ]
  },
  {
   "cell_type": "markdown",
   "metadata": {},
   "source": [
    "Consider the following tridiagonal $N \\times N$ matrix equation\n",
    "\n",
    "\\begin{gather}\n",
    "\\begin{pmatrix}\n",
    "b_1 & c_1 & 0 & 0 & \\cdots & 0 & 0 & 0 & 0 \\\\\n",
    "a_2 & b_2 & c_2 & 0 & \\cdots & 0 & 0 & 0 & 0 \\\\\n",
    "0 & a_3 & b_3 & c_3 & \\cdots & 0 & 0 & 0 & 0 \\\\\n",
    "\\vdots & \\vdots & \\vdots & \\vdots &   & \\vdots & \\vdots & \\vdots & \\vdots \\\\\n",
    "0 & 0 & 0 & 0 & \\cdots & a_{N-2} & b_{N-2} & c_{N-2} & 0 \\\\\n",
    "0 & 0 & 0 & 0 & \\cdots & 0 & a_{N-1} & b_{N-1} & c_{N-1} \\\\\n",
    "0 & 0 & 0 & 0 & \\cdots & 0 & 0 & a_N & b_N \n",
    "\\end{pmatrix}\n",
    "\\begin{pmatrix}\n",
    "x_1  \\\\\n",
    "x_2  \\\\\n",
    "x_3  \\\\\n",
    "\\vdots \\\\\n",
    "x_{N-2} \\\\\n",
    "x_{N-1} \\\\\n",
    "x_N  \n",
    "\\end{pmatrix}\n",
    "=\n",
    "\\begin{pmatrix}\n",
    "y_1  \\\\\n",
    "y_2  \\\\\n",
    "y_3  \\\\\n",
    "\\vdots \\\\\n",
    "y_{N-2} \\\\\n",
    "y_{N-1} \\\\\n",
    "y_N  \n",
    "\\end{pmatrix}.\n",
    "\\end{gather}"
   ]
  },
  {
   "cell_type": "markdown",
   "metadata": {},
   "source": [
    "### Exercise 1:\n",
    "Derive the iterative expressions for Gaussian elimination, in a form that can be directly implemented as a numerical subroutine. Do not apply pivoting here, because in the special case of tridiagonal matrix equations pivoting is rarely necessary in practice. "
   ]
  },
  {
   "cell_type": "code",
   "execution_count": 2,
   "metadata": {},
   "outputs": [],
   "source": [
    "def forward_gauss(A, b):\n",
    "    A, b = A.copy(), b.copy()\n",
    "    for k in range(len(A)):\n",
    "        for i in range(k+1, len(A)):\n",
    "            A[i], b[i] = A[i] - A[k] / A[k][k] * A[i][k], b[i] - b[k] / A[k][k] * A[i][k]\n",
    "    return A, b"
   ]
  },
  {
   "cell_type": "markdown",
   "metadata": {},
   "source": [
    "### Exercise 2:\n",
    "Derive the iterative expressions for backward substitution, also for implementation as a numerical subroutine. "
   ]
  },
  {
   "cell_type": "code",
   "execution_count": 3,
   "metadata": {},
   "outputs": [],
   "source": [
    "def backward_gauss(A, b):\n",
    "    x = np.zeros(b.shape)\n",
    "    for i in range(len(A)):\n",
    "        x[-i-1] = (b[-i-1] - np.sum(A[-i-1][-i:] * x[-i:])) / A[-i-1][-i-1]\n",
    "    return x"
   ]
  },
  {
   "cell_type": "markdown",
   "metadata": {},
   "source": [
    "### Exercise 3:\n",
    "Program a subroutine that, given the values $a_2 \\cdots a_N$, $b_1 \\cdots b_N$, $c_1 \\cdots c_{N-1}$ and $y_1 \\cdots y_N$, finds the solution vector given by $x_1 \\cdots x_N$."
   ]
  },
  {
   "cell_type": "code",
   "execution_count": 4,
   "metadata": {},
   "outputs": [],
   "source": [
    "def find_solution(a, b, c, y):\n",
    "    A = diags([a, b, c],[-1,0,1]).toarray().copy()\n",
    "    return backward_gauss(*forward_gauss(A, y))\n",
    "\n",
    "def text_solution(x):\n",
    "    string = f\"x   | Computed\\n\"\n",
    "    for i in range(len(x)):\n",
    "        n = chr(8320+(i+1)%10) if i < 9 else chr(8320+(i+1)//10)+chr(8320+(i+1)%10)\n",
    "        string += f\"x{n:<2} | {x[i]:>20.17f}\\n\"\n",
    "    return string\n",
    "\n",
    "def check_solution(a, b, c, x):\n",
    "    A = diags([a, b, c],[-1,0,1]).toarray()\n",
    "    return A@x\n",
    "\n",
    "def text_deviation(y, y_sol):\n",
    "    eps = np.finfo(np.float64).eps\n",
    "    y_dev = abs( y_sol - y ) / eps\n",
    "    string = \"y   | Original            | Computed            | Deviation\\n\"\n",
    "    for i in range(len(y)):\n",
    "        n = chr(8320+(i+1)%10) if i < 9 else chr(8320+(i+1)//10)+chr(8320+(i+1)%10)\n",
    "        string += f\"y{n:<2} | {y[i]:>17.17} | {y_sol[i]:>17.17f} | {y_dev[i]:<.2f} eps\\n\"\n",
    "    string += f\"Machine Precision: 1 eps = {eps:<3.3e}\\n\"\n",
    "    string += \"All \" if (y_dev<1).all() else \"Not all \"\n",
    "    string += \"deviations are within machine precision.\"\n",
    "    return string"
   ]
  },
  {
   "cell_type": "markdown",
   "metadata": {},
   "source": [
    "### Exercise 4:\n",
    "Take $N = 10$, and set all $a$ values to $-1$, all $b$ values to $1.5$, all $c$ values to $-1$ and all $y$ values to $.1$. What is the solution for the $x_1 \\cdots x_N$? "
   ]
  },
  {
   "cell_type": "code",
   "execution_count": 5,
   "metadata": {},
   "outputs": [
    {
     "name": "stdout",
     "output_type": "stream",
     "text": [
      "x   | Computed\n",
      "x₁  |  0.09565217391304352\n",
      "x₂  |  0.04347826086956528\n",
      "x₃  | -0.13043478260869562\n",
      "x₄  | -0.33913043478260874\n",
      "x₅  | -0.47826086956521757\n",
      "x₆  | -0.47826086956521746\n",
      "x₇  | -0.33913043478260863\n",
      "x₈  | -0.13043478260869551\n",
      "x₉  |  0.04347826086956538\n",
      "x₁₀ |  0.09565217391304359\n",
      "\n"
     ]
    }
   ],
   "source": [
    "N = 10\n",
    "a, b, c, y = np.full(N-1, -1.), np.full(N, 1.5), np.full(N-1, -1.), np.full(N, .1)\n",
    "x = find_solution(a, b, c, y)\n",
    "print(text_solution(x))"
   ]
  },
  {
   "cell_type": "markdown",
   "metadata": {},
   "source": [
    "### Exercise 5:\n",
    "Put your solution $x_1 \\cdots x_N$ back into the original matrix equation above and find how much the result deviates from the original right-hand-side $y_1 \\cdots y_N$. Is this satisfactory?"
   ]
  },
  {
   "cell_type": "code",
   "execution_count": 6,
   "metadata": {},
   "outputs": [
    {
     "name": "stdout",
     "output_type": "stream",
     "text": [
      "y   | Original            | Computed            | Deviation\n",
      "y₁  | 0.10000000000000001 | 0.10000000000000001 | 0.00 eps\n",
      "y₂  | 0.10000000000000001 | 0.10000000000000002 | 0.06 eps\n",
      "y₃  | 0.10000000000000001 | 0.10000000000000001 | 0.00 eps\n",
      "y₄  | 0.10000000000000001 | 0.10000000000000009 | 0.38 eps\n",
      "y₅  | 0.10000000000000001 | 0.09999999999999987 | 0.62 eps\n",
      "y₆  | 0.10000000000000001 | 0.10000000000000009 | 0.38 eps\n",
      "y₇  | 0.10000000000000001 | 0.09999999999999998 | 0.12 eps\n",
      "y₈  | 0.10000000000000001 | 0.09999999999999995 | 0.25 eps\n",
      "y₉  | 0.10000000000000001 | 0.09999999999999999 | 0.06 eps\n",
      "y₁₀ | 0.10000000000000001 | 0.10000000000000001 | 0.00 eps\n",
      "Machine Precision: 1 eps = 2.220e-16\n",
      "All deviations are within machine precision.\n"
     ]
    }
   ],
   "source": [
    "print(text_deviation( y, check_solution(a, b, c, x)))"
   ]
  }
 ],
 "metadata": {
  "kernelspec": {
   "display_name": "Python 3",
   "language": "python",
   "name": "python3"
  },
  "language_info": {
   "codemirror_mode": {
    "name": "ipython",
    "version": 3
   },
   "file_extension": ".py",
   "mimetype": "text/x-python",
   "name": "python",
   "nbconvert_exporter": "python",
   "pygments_lexer": "ipython3",
   "version": "3.7.3"
  }
 },
 "nbformat": 4,
 "nbformat_minor": 4
}
